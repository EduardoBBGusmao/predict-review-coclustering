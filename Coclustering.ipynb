{
 "cells": [
  {
   "cell_type": "code",
   "execution_count": 2,
   "metadata": {},
   "outputs": [],
   "source": [
    "import numpy as np\n",
    "import pandas as pd\n",
    "from plotly.offline import iplot\n",
    "from surprise import SVD, KNNBasic, CoClustering\n",
    "from surprise import Dataset\n",
    "from surprise import Reader\n",
    "from surprise.accuracy import rmse\n",
    "from surprise import accuracy\n",
    "from surprise.model_selection import GridSearchCV\n",
    "from surprise.model_selection import cross_validate\n",
    "from surprise.model_selection import train_test_split\n",
    "from surprise import Dataset\n",
    "from surprise import Reader"
   ]
  },
  {
   "cell_type": "code",
   "execution_count": 4,
   "metadata": {},
   "outputs": [],
   "source": [
    "data = Dataset.load_builtin('ml-100k')"
   ]
  },
  {
   "cell_type": "code",
   "execution_count": 6,
   "metadata": {},
   "outputs": [
    {
     "name": "stdout",
     "output_type": "stream",
     "text": [
      "0.9782651786635063\n",
      "{'n_epochs': 30, 'n_cltr_u': 10, 'n_cltr_i': 5}\n",
      "{'split0_test_rmse': array([0.97847633, 0.98593798, 0.99289182, 0.98854231, 0.99250305,\n",
      "       1.00036085, 0.98294667, 1.00422503, 1.01111108, 0.98432346,\n",
      "       0.98894565, 0.98926874, 0.98369511, 0.99265697, 1.00456213,\n",
      "       0.98537893, 1.00126389, 1.00975181, 0.97836281, 0.98387624,\n",
      "       0.99107793, 0.98337139, 0.99811882, 1.00553057, 0.98094983,\n",
      "       0.99843831, 1.00281366]), 'split1_test_rmse': array([0.98596665, 0.99140586, 0.98918189, 0.99009807, 0.99678758,\n",
      "       1.00044463, 0.97802518, 0.9991624 , 1.00200916, 0.97585735,\n",
      "       0.99157897, 0.99023641, 0.97898037, 0.99394008, 0.98960536,\n",
      "       0.98618723, 0.99661129, 1.00553096, 0.98445224, 0.98831125,\n",
      "       0.98419591, 0.97219587, 0.99808958, 0.98441262, 0.97775927,\n",
      "       0.99829511, 1.00561516]), 'split2_test_rmse': array([0.9844687 , 0.99068254, 0.98039384, 0.9759279 , 0.9975956 ,\n",
      "       1.00128448, 0.98109041, 0.9991517 , 1.00577763, 0.98696886,\n",
      "       0.97921592, 0.98355933, 0.97954984, 0.98445359, 0.99233396,\n",
      "       0.98488131, 0.99275959, 1.00958975, 0.98736905, 0.98306647,\n",
      "       0.98514432, 0.97922828, 0.98901767, 0.99749127, 0.98284818,\n",
      "       0.99877433, 1.00551971]), 'mean_test_rmse': array([0.98297056, 0.98934213, 0.98748918, 0.9848561 , 0.99562874,\n",
      "       1.00069665, 0.98068742, 1.00084638, 1.00629929, 0.98238322,\n",
      "       0.98658018, 0.98768816, 0.98074177, 0.99035021, 0.99550048,\n",
      "       0.98548249, 0.99687826, 1.00829084, 0.9833947 , 0.98508465,\n",
      "       0.98680605, 0.97826518, 0.99507535, 0.99581149, 0.98051909,\n",
      "       0.99850258, 1.00464951]), 'std_test_rmse': array([0.00323621, 0.00242514, 0.00524079, 0.00634505, 0.00223468,\n",
      "       0.00041706, 0.0020293 , 0.00238907, 0.00373411, 0.00473919,\n",
      "       0.00531713, 0.00294613, 0.00210122, 0.00420232, 0.00650366,\n",
      "       0.00053814, 0.00347699, 0.00195265, 0.00375206, 0.00230538,\n",
      "       0.00304539, 0.00461294, 0.00428345, 0.0087028 , 0.00209975,\n",
      "       0.00020085, 0.00129873]), 'rank_test_rmse': array([ 6, 15, 13,  8, 19, 23,  3, 24, 26,  5, 11, 14,  4, 16, 18, 10, 21,\n",
      "       27,  7,  9, 12,  1, 17, 20,  2, 22, 25]), 'mean_fit_time': array([1.52504468, 1.43111897, 1.66901525, 1.42649015, 1.61412938,\n",
      "       1.77789529, 1.78229539, 1.988753  , 2.20354191, 1.44695393,\n",
      "       1.67710042, 1.93479538, 1.67442067, 1.92448894, 2.20292195,\n",
      "       2.18861715, 2.46989727, 2.72185739, 1.69657334, 2.00307306,\n",
      "       2.31353299, 1.9857688 , 2.3113122 , 2.64056794, 2.6303738 ,\n",
      "       3.06236903, 3.48276504]), 'std_fit_time': array([0.35968473, 0.03049411, 0.02489934, 0.02358859, 0.05221706,\n",
      "       0.00971199, 0.01472784, 0.00737506, 0.01767301, 0.00688074,\n",
      "       0.00223703, 0.0080564 , 0.00198852, 0.00646223, 0.00412068,\n",
      "       0.00847828, 0.00709336, 0.00594194, 0.00267066, 0.01204215,\n",
      "       0.00467077, 0.00782449, 0.00736118, 0.01308403, 0.00810062,\n",
      "       0.04996017, 0.03151063]), 'mean_test_time': array([0.2176137 , 0.15896503, 0.19458238, 0.18816257, 0.1973664 ,\n",
      "       0.18639143, 0.15123264, 0.18815541, 0.18513989, 0.18644428,\n",
      "       0.19056527, 0.1512239 , 0.18500471, 0.18335676, 0.18685722,\n",
      "       0.18393461, 0.15055712, 0.1849397 , 0.18548528, 0.18644198,\n",
      "       0.1838704 , 0.15182797, 0.18362069, 0.18906927, 0.18746003,\n",
      "       0.19199793, 0.16275501]), 'std_test_time': array([0.06547085, 0.04806342, 0.0505806 , 0.04731123, 0.03908343,\n",
      "       0.04887084, 0.04960305, 0.05115827, 0.05090568, 0.05099046,\n",
      "       0.05261883, 0.0494218 , 0.0491027 , 0.04753763, 0.05239033,\n",
      "       0.04825797, 0.05021189, 0.05003297, 0.04802612, 0.05163081,\n",
      "       0.04971354, 0.05106051, 0.04872387, 0.04397221, 0.04885772,\n",
      "       0.04944523, 0.04474356]), 'params': [{'n_epochs': 20, 'n_cltr_u': 5, 'n_cltr_i': 5}, {'n_epochs': 20, 'n_cltr_u': 5, 'n_cltr_i': 10}, {'n_epochs': 20, 'n_cltr_u': 5, 'n_cltr_i': 15}, {'n_epochs': 20, 'n_cltr_u': 10, 'n_cltr_i': 5}, {'n_epochs': 20, 'n_cltr_u': 10, 'n_cltr_i': 10}, {'n_epochs': 20, 'n_cltr_u': 10, 'n_cltr_i': 15}, {'n_epochs': 20, 'n_cltr_u': 20, 'n_cltr_i': 5}, {'n_epochs': 20, 'n_cltr_u': 20, 'n_cltr_i': 10}, {'n_epochs': 20, 'n_cltr_u': 20, 'n_cltr_i': 15}, {'n_epochs': 25, 'n_cltr_u': 5, 'n_cltr_i': 5}, {'n_epochs': 25, 'n_cltr_u': 5, 'n_cltr_i': 10}, {'n_epochs': 25, 'n_cltr_u': 5, 'n_cltr_i': 15}, {'n_epochs': 25, 'n_cltr_u': 10, 'n_cltr_i': 5}, {'n_epochs': 25, 'n_cltr_u': 10, 'n_cltr_i': 10}, {'n_epochs': 25, 'n_cltr_u': 10, 'n_cltr_i': 15}, {'n_epochs': 25, 'n_cltr_u': 20, 'n_cltr_i': 5}, {'n_epochs': 25, 'n_cltr_u': 20, 'n_cltr_i': 10}, {'n_epochs': 25, 'n_cltr_u': 20, 'n_cltr_i': 15}, {'n_epochs': 30, 'n_cltr_u': 5, 'n_cltr_i': 5}, {'n_epochs': 30, 'n_cltr_u': 5, 'n_cltr_i': 10}, {'n_epochs': 30, 'n_cltr_u': 5, 'n_cltr_i': 15}, {'n_epochs': 30, 'n_cltr_u': 10, 'n_cltr_i': 5}, {'n_epochs': 30, 'n_cltr_u': 10, 'n_cltr_i': 10}, {'n_epochs': 30, 'n_cltr_u': 10, 'n_cltr_i': 15}, {'n_epochs': 30, 'n_cltr_u': 20, 'n_cltr_i': 5}, {'n_epochs': 30, 'n_cltr_u': 20, 'n_cltr_i': 10}, {'n_epochs': 30, 'n_cltr_u': 20, 'n_cltr_i': 15}], 'param_n_epochs': [20, 20, 20, 20, 20, 20, 20, 20, 20, 25, 25, 25, 25, 25, 25, 25, 25, 25, 30, 30, 30, 30, 30, 30, 30, 30, 30], 'param_n_cltr_u': [5, 5, 5, 10, 10, 10, 20, 20, 20, 5, 5, 5, 10, 10, 10, 20, 20, 20, 5, 5, 5, 10, 10, 10, 20, 20, 20], 'param_n_cltr_i': [5, 10, 15, 5, 10, 15, 5, 10, 15, 5, 10, 15, 5, 10, 15, 5, 10, 15, 5, 10, 15, 5, 10, 15, 5, 10, 15]}\n"
     ]
    }
   ],
   "source": [
    "param_grid = {'n_epochs': [20, 25, 30], 'n_cltr_u': [5, 10, 20], 'n_cltr_i': [5, 10, 15]}\n",
    "gs = GridSearchCV(CoClustering, param_grid, measures=['rmse'], cv=3)\n",
    "\n",
    "gs.fit(data)\n",
    "\n",
    "print(gs.best_score['rmse'])\n",
    "print(gs.best_params['rmse'])\n",
    "print(gs.cv_results)"
   ]
  },
  {
   "cell_type": "code",
   "execution_count": 7,
   "metadata": {},
   "outputs": [
    {
     "name": "stderr",
     "output_type": "stream",
     "text": [
      "<ipython-input-7-2d8815a52ce0>:3: DeprecationWarning:\n",
      "\n",
      "`np.int` is a deprecated alias for the builtin `int`. To silence this warning, use `int` by itself. Doing this will not modify any behavior and is safe. When replacing `np.int`, you may wish to use e.g. `np.int64` or `np.int32` to specify the precision. If you wish to review your current use, check the release note link for additional information.\n",
      "Deprecated in NumPy 1.20; for more details and guidance: https://numpy.org/devdocs/release/1.20.0-notes.html#deprecations\n",
      "\n"
     ]
    },
    {
     "name": "stdout",
     "output_type": "stream",
     "text": [
      "RMSE: 0.9738\n",
      "0.9737808390133599\n",
      "MAE:  0.7603\n",
      "0.7603351839815262\n"
     ]
    }
   ],
   "source": [
    "model = CoClustering(**gs.best_params['rmse'])\n",
    "trainset, testset = train_test_split(data, test_size=.25)\n",
    "model.fit(trainset)\n",
    "predictions = model.test(testset)\n",
    "\n",
    "print(accuracy.rmse(predictions))\n",
    "print(accuracy.mae(predictions))"
   ]
  },
  {
   "cell_type": "code",
   "execution_count": 21,
   "metadata": {},
   "outputs": [
    {
     "data": {
      "text/html": [
       "<div>\n",
       "<style scoped>\n",
       "    .dataframe tbody tr th:only-of-type {\n",
       "        vertical-align: middle;\n",
       "    }\n",
       "\n",
       "    .dataframe tbody tr th {\n",
       "        vertical-align: top;\n",
       "    }\n",
       "\n",
       "    .dataframe thead th {\n",
       "        text-align: right;\n",
       "    }\n",
       "</style>\n",
       "<table border=\"1\" class=\"dataframe\">\n",
       "  <thead>\n",
       "    <tr style=\"text-align: right;\">\n",
       "      <th></th>\n",
       "      <th>r_ui</th>\n",
       "      <th>est</th>\n",
       "      <th>erro</th>\n",
       "    </tr>\n",
       "  </thead>\n",
       "  <tbody>\n",
       "    <tr>\n",
       "      <th>count</th>\n",
       "      <td>25000.000000</td>\n",
       "      <td>25000.000000</td>\n",
       "      <td>25000.000000</td>\n",
       "    </tr>\n",
       "    <tr>\n",
       "      <th>mean</th>\n",
       "      <td>3.529080</td>\n",
       "      <td>3.534297</td>\n",
       "      <td>-0.005217</td>\n",
       "    </tr>\n",
       "    <tr>\n",
       "      <th>std</th>\n",
       "      <td>1.126164</td>\n",
       "      <td>0.762664</td>\n",
       "      <td>0.973786</td>\n",
       "    </tr>\n",
       "    <tr>\n",
       "      <th>min</th>\n",
       "      <td>1.000000</td>\n",
       "      <td>1.000000</td>\n",
       "      <td>-4.000000</td>\n",
       "    </tr>\n",
       "    <tr>\n",
       "      <th>25%</th>\n",
       "      <td>3.000000</td>\n",
       "      <td>3.078268</td>\n",
       "      <td>-0.606375</td>\n",
       "    </tr>\n",
       "    <tr>\n",
       "      <th>50%</th>\n",
       "      <td>4.000000</td>\n",
       "      <td>3.617395</td>\n",
       "      <td>0.042759</td>\n",
       "    </tr>\n",
       "    <tr>\n",
       "      <th>75%</th>\n",
       "      <td>4.000000</td>\n",
       "      <td>4.072959</td>\n",
       "      <td>0.643239</td>\n",
       "    </tr>\n",
       "    <tr>\n",
       "      <th>max</th>\n",
       "      <td>5.000000</td>\n",
       "      <td>5.000000</td>\n",
       "      <td>4.000000</td>\n",
       "    </tr>\n",
       "  </tbody>\n",
       "</table>\n",
       "</div>"
      ],
      "text/plain": [
       "               r_ui           est          erro\n",
       "count  25000.000000  25000.000000  25000.000000\n",
       "mean       3.529080      3.534297     -0.005217\n",
       "std        1.126164      0.762664      0.973786\n",
       "min        1.000000      1.000000     -4.000000\n",
       "25%        3.000000      3.078268     -0.606375\n",
       "50%        4.000000      3.617395      0.042759\n",
       "75%        4.000000      4.072959      0.643239\n",
       "max        5.000000      5.000000      4.000000"
      ]
     },
     "execution_count": 21,
     "metadata": {},
     "output_type": "execute_result"
    }
   ],
   "source": [
    "df = pd.DataFrame(predictions)\n",
    "df['erro'] = df['r_ui'] - df['est']\n",
    "df.describe()"
   ]
  },
  {
   "cell_type": "code",
   "execution_count": 20,
   "metadata": {},
   "outputs": [
    {
     "data": {
      "text/plain": [
       "Text(0, 0.5, 'Frequency')"
      ]
     },
     "execution_count": 20,
     "metadata": {},
     "output_type": "execute_result"
    },
    {
     "data": {
      "image/png": "[encoded data removed]",
      "text/plain": [
       "<Figure size 432x288 with 1 Axes>"
      ]
     },
     "metadata": {
      "needs_background": "light"
     },
     "output_type": "display_data"
    }
   ],
   "source": [
    "import matplotlib.pyplot as plt\n",
    "diff = df['erro']\n",
    "diff.hist(bins = 40)\n",
    "plt.title('Histogram of prediction errors')\n",
    "plt.xlabel('MPG prediction error')\n",
    "plt.ylabel('Frequency')"
   ]
  },
  {
   "cell_type": "code",
   "execution_count": null,
   "metadata": {},
   "outputs": [],
   "source": []
  }
 ],
 "metadata": {
  "language_info": {
   "name": "python",
   "nbconvert_exporter": "python"
  },
  "orig_nbformat": 4
 },
 "nbformat": 4,
 "nbformat_minor": 2
}